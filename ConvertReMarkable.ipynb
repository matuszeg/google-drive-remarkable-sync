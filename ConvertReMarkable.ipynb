{
  "nbformat": 4,
  "nbformat_minor": 0,
  "metadata": {
    "colab": {
      "name": "ConvertReMarkable.ipynb",
      "provenance": [],
      "collapsed_sections": [],
      "toc_visible": true
    },
    "kernelspec": {
      "name": "python3",
      "display_name": "Python 3"
    }
  },
  "cells": [
    {
      "cell_type": "markdown",
      "metadata": {
        "id": "IHBwMh9isXBp"
      },
      "source": [
        "# Convert remarkable zip to actual PDF\n",
        "\n",
        "Note: Mount Google Drive in the left-hand sidebar before running (`Files -> Mount Drive`)."
      ]
    },
    {
      "cell_type": "code",
      "metadata": {
        "id": "-ot4Vwx2qFpR"
      },
      "source": [
        "%%capture\n",
        "# works only for py >= 3.7 < 4\n",
        "!apt-get install python3.8\n",
        "!curl --silent --show-error --retry 5 https://bootstrap.pypa.io/get-pip.py | python3.8\n",
        "!python3.8 -m pip install rmrl"
      ],
      "execution_count": 1,
      "outputs": []
    },
    {
      "cell_type": "code",
      "metadata": {
        "id": "8fHZs_Jbrl1w"
      },
      "source": [
        "from pathlib import Path\n",
        "base = Path('/content/drive/MyDrive')\n",
        "remarkable_dir = base / 'RmSync'\n",
        "!ls $remarkable_dir"
      ],
      "execution_count": null,
      "outputs": []
    },
    {
      "cell_type": "code",
      "metadata": {
        "colab": {
          "base_uri": "https://localhost:8080/"
        },
        "id": "dhpYZcnThaoa",
        "outputId": "7f89c322-e7f1-4141-a66a-f025c2c3723c"
      },
      "source": [
        "fname_in = '2102.10717_AbstractionAndAnalogyMakingInAI.bin'\n",
        "fname_out = fname_in[:-len('.bin')] + '.pdf'\n",
        "\n",
        "in_ = remarkable_dir / fname_in\n",
        "out = base / fname_out\n",
        "\n",
        "if not in_.exists():\n",
        "  print('Warning:', in_, 'not found')\n",
        "\n",
        "if out.exists():\n",
        "  print('Warning:', out, 'will be overwritten')\n",
        "\n",
        "print('Converting', in_)\n",
        "print('to', out)"
      ],
      "execution_count": 3,
      "outputs": [
        {
          "output_type": "stream",
          "text": [
            "Converting /content/drive/MyDrive/RmSync/2102.10717_AbstractionAndAnalogyMakingInAI.bin\n",
            "to /content/drive/MyDrive/2102.10717_AbstractionAndAnalogyMakingInAI.pdf\n"
          ],
          "name": "stdout"
        }
      ]
    },
    {
      "cell_type": "code",
      "metadata": {
        "id": "KHjjYcuXp4Mj"
      },
      "source": [
        "!python3.8 -m rmrl $in_ > $out"
      ],
      "execution_count": 4,
      "outputs": []
    }
  ]
}